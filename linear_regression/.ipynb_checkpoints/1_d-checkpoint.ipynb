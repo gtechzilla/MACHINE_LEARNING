{
 "cells": [
  {
   "cell_type": "code",
   "execution_count": 11,
   "metadata": {},
   "outputs": [],
   "source": [
    "#importing the necessary libraries\n",
    "\n",
    "import numpy as np\n",
    "%matplotlib inline\n",
    "import matplotlib.pyplot as plt\n",
    "import pandas as pd"
   ]
  },
  {
   "cell_type": "code",
   "execution_count": 12,
   "metadata": {},
   "outputs": [],
   "source": [
    "#loading the data\n",
    "data=pd.read_csv('data_1d.csv',header=None)\n",
    "\n",
    "#plotting the data\n",
    "X=data.iloc[:,0]\n",
    "Y=data.iloc[:,1]\n",
    "\n",
    "\n"
   ]
  },
  {
   "cell_type": "code",
   "execution_count": 17,
   "metadata": {},
   "outputs": [
    {
     "name": "stdout",
     "output_type": "stream",
     "text": [
      "716.4299272099711\n"
     ]
    }
   ],
   "source": [
    "#denominator is common for a and b\n",
    "denominator=np.mean(X**2)-(np.mean(X))**2\n",
    "print(denominator)"
   ]
  },
  {
   "cell_type": "code",
   "execution_count": 24,
   "metadata": {},
   "outputs": [
    {
     "name": "stdout",
     "output_type": "stream",
     "text": [
      "985.0351227801282\n",
      "286.44240756606524\n",
      "[94578.10447816 35508.95295873 28672.04924781 98749.0573164\n",
      " 66096.39103908 57630.94435622 53302.09294623 80365.93868983\n",
      " 79728.24161763 77368.21235105 16897.56613149 89726.79186971\n",
      " 52801.36085593 70833.46504699 18421.52193898 56555.93033401\n",
      " 80206.95574088 81074.34960172 36658.77394023 44206.32758453\n",
      " 26549.79800274 73243.12503656 17761.53358233  7004.12959755\n",
      " 26209.96643733 81851.40798387 39142.66678718 75866.33609471\n",
      " 41870.54344685 93232.95374794 41797.58089333  3449.63507391\n",
      "  7069.07255076 13954.56533663 62636.60817711 59873.69864637\n",
      " 78702.41438908 82482.07081998 54357.05942645 61403.8766393\n",
      " 65942.73504464 60688.61209091 46897.86409983 80223.01544294\n",
      " 89945.83030201 16877.84407328 75647.96954373 71076.68563963\n",
      "  9987.15644116 35540.56616778 35638.06453564 89756.63957125\n",
      "  7439.83921598 35116.58316955 78182.28483988 21517.3558799\n",
      " 78573.51520416 48324.60241503 54260.32099861 86480.48840939\n",
      " 38652.70392049  9541.45103794 11241.20202941 45731.58770559\n",
      " 84701.56232277 49646.84437725 11194.39307231 22181.93200926\n",
      " 66829.4605725  12882.26940437 46549.10044476  5062.42524046\n",
      " 40217.13814675 26222.87156225 38589.26360457 92720.43080347\n",
      " 59468.98771334 49650.45829144 17739.9697413  84086.3660839\n",
      " 40989.58081417 35207.46144811 73199.75239202 89451.54699799\n",
      " 34310.14365494 93433.00086995 52450.22621166 79194.09583631\n",
      " 49363.60854058 61143.61178417 59670.3765575  76450.03795916\n",
      " 15698.65532407 70756.46417797 61804.24805062 78163.1540945\n",
      " 71403.70623391 70635.43791464 30831.21930243 40008.26172615]\n"
     ]
    }
   ],
   "source": [
    "a=((np.mean(np.dot(X,Y)))-(np.mean(X)*np.mean(Y)))/denominator\n",
    "print(a)\n",
    "b=(((np.mean(np.dot(X,X))*np.mean(Y)))-((np.mean(X)*np.mean(np.dot(X,Y)))))/denominator\n",
    "print(b)\n",
    "\n",
    "Yhat= a*X + b\n",
    "print(Yhat)"
   ]
  },
  {
   "cell_type": "code",
   "execution_count": 25,
   "metadata": {},
   "outputs": [
    {
     "data": {
      "text/plain": [
       "(-1.63375191646989, 104.8034818326499, -4930.7077123241015, 103686.18898443083)"
      ]
     },
     "execution_count": 25,
     "metadata": {},
     "output_type": "execute_result"
    },
    {
     "data": {
      "image/png": "[encoded data removed]",
      "text/plain": [
       "<Figure size 432x288 with 1 Axes>"
      ]
     },
     "metadata": {},
     "output_type": "display_data"
    }
   ],
   "source": [
    "#plotting line of best fit\n",
    "fig=plt.figure()\n",
    "ax = fig.add_axes([0,0,1,1])\n",
    "ax.scatter(X,Y,label='data set')\n",
    "ax.plot(X,Yhat,'g-',label='prediction')\n",
    "ax.legend(loc=0)\n",
    "ax.axis('auto')\n",
    "#ax.set_xlim([0,120])\n",
    "#ax.set_ylim([0,200])"
   ]
  },
  {
   "cell_type": "code",
   "execution_count": 16,
   "metadata": {},
   "outputs": [
    {
     "name": "stdout",
     "output_type": "stream",
     "text": [
      "the r-squared is  -1223266.7913162662\n"
     ]
    }
   ],
   "source": [
    "d1=Y-Yhat\n",
    "d2=Y-Y.mean()\n",
    "r2=1-d1.dot(d1)/d2.dot(d2)\n",
    "print('the r-squared is ',r2)"
   ]
  },
  {
   "cell_type": "code",
   "execution_count": null,
   "metadata": {},
   "outputs": [],
   "source": []
  },
  {
   "cell_type": "code",
   "execution_count": null,
   "metadata": {},
   "outputs": [],
   "source": []
  },
  {
   "cell_type": "code",
   "execution_count": null,
   "metadata": {},
   "outputs": [],
   "source": []
  }
 ],
 "metadata": {
  "kernelspec": {
   "display_name": "Python 3",
   "language": "python",
   "name": "python3"
  },
  "language_info": {
   "codemirror_mode": {
    "name": "ipython",
    "version": 3
   },
   "file_extension": ".py",
   "mimetype": "text/x-python",
   "name": "python",
   "nbconvert_exporter": "python",
   "pygments_lexer": "ipython3",
   "version": "3.6.5"
  }
 },
 "nbformat": 4,
 "nbformat_minor": 2
}
